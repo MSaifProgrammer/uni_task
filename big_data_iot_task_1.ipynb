{
  "nbformat": 4,
  "nbformat_minor": 0,
  "metadata": {
    "colab": {
      "provenance": [],
      "authorship_tag": "ABX9TyMU2nwrhspPHhOGe4Wq1xGv",
      "include_colab_link": true
    },
    "kernelspec": {
      "name": "python3",
      "display_name": "Python 3"
    },
    "language_info": {
      "name": "python"
    }
  },
  "cells": [
    {
      "cell_type": "markdown",
      "metadata": {
        "id": "view-in-github",
        "colab_type": "text"
      },
      "source": [
        "<a href=\"https://colab.research.google.com/github/MSaifProgrammer/uni_task/blob/main/big_data_iot_task_1.ipynb\" target=\"_parent\"><img src=\"https://colab.research.google.com/assets/colab-badge.svg\" alt=\"Open In Colab\"/></a>"
      ]
    },
    {
      "cell_type": "markdown",
      "source": [
        "##**Input a List of fruits**"
      ],
      "metadata": {
        "id": "Y9IWU-JBD20W"
      }
    },
    {
      "cell_type": "code",
      "execution_count": 1,
      "metadata": {
        "id": "J9h67U5JBnRh"
      },
      "outputs": [],
      "source": [
        "fruits_list = [\"apple\", \"banana\", \"cherry\", \"date\", \"elderberry\", \"fig\", \"grape\", \"honeydew\", \"kiwi\", \"lemon\", \"mango\", \"nectarine\", \"orange\", \"papaya\", \"quince\"]"
      ]
    },
    {
      "cell_type": "markdown",
      "source": [
        "##**Random Selection**"
      ],
      "metadata": {
        "id": "z7mIMKmeEHhd"
      }
    },
    {
      "cell_type": "code",
      "source": [
        "import random\n",
        "\n",
        "fruits_list = [\"apple\", \"banana\", \"cherry\", \"date\", \"elderberry\", \"fig\", \"grape\", \"honeydew\", \"kiwi\", \"lemon\", \"mango\", \"nectarine\", \"orange\", \"papaya\", \"quince\"]\n",
        "\n",
        "fruits = []\n",
        "for x in range(45):\n",
        "  fruits.append(random.choice(fruits_list))\n",
        "\n",
        "fruits"
      ],
      "metadata": {
        "colab": {
          "base_uri": "https://localhost:8080/"
        },
        "id": "bJXt3PAECGz6",
        "outputId": "d489fd9d-9dad-4f38-c7b9-5afe634330c9"
      },
      "execution_count": 3,
      "outputs": [
        {
          "output_type": "execute_result",
          "data": {
            "text/plain": [
              "['quince',\n",
              " 'elderberry',\n",
              " 'mango',\n",
              " 'nectarine',\n",
              " 'elderberry',\n",
              " 'fig',\n",
              " 'banana',\n",
              " 'elderberry',\n",
              " 'fig',\n",
              " 'grape',\n",
              " 'banana',\n",
              " 'kiwi',\n",
              " 'cherry',\n",
              " 'lemon',\n",
              " 'quince',\n",
              " 'cherry',\n",
              " 'fig',\n",
              " 'cherry',\n",
              " 'fig',\n",
              " 'lemon',\n",
              " 'mango',\n",
              " 'grape',\n",
              " 'papaya',\n",
              " 'honeydew',\n",
              " 'elderberry',\n",
              " 'cherry',\n",
              " 'banana',\n",
              " 'orange',\n",
              " 'nectarine',\n",
              " 'grape',\n",
              " 'elderberry',\n",
              " 'kiwi',\n",
              " 'quince',\n",
              " 'date',\n",
              " 'apple',\n",
              " 'mango',\n",
              " 'apple',\n",
              " 'banana',\n",
              " 'elderberry',\n",
              " 'papaya',\n",
              " 'nectarine',\n",
              " 'fig',\n",
              " 'mango',\n",
              " 'lemon',\n",
              " 'lemon']"
            ]
          },
          "metadata": {},
          "execution_count": 3
        }
      ]
    },
    {
      "cell_type": "markdown",
      "source": [
        "##**Assign Sales Data**"
      ],
      "metadata": {
        "id": "UqDPO2doEQgv"
      }
    },
    {
      "cell_type": "code",
      "source": [
        "import random\n",
        "\n",
        "fruit_sales = []\n",
        "for fruit in fruits:\n",
        "  fruit_sales.append([fruit, random.randint(1000, 5000)])\n",
        "\n",
        "fruit_sales"
      ],
      "metadata": {
        "colab": {
          "base_uri": "https://localhost:8080/"
        },
        "id": "yXBRZgxQCeWs",
        "outputId": "4b5e9ffd-14f9-49a0-8e24-4f5652b2e81a"
      },
      "execution_count": 4,
      "outputs": [
        {
          "output_type": "execute_result",
          "data": {
            "text/plain": [
              "[['quince', 4334],\n",
              " ['elderberry', 1360],\n",
              " ['mango', 3357],\n",
              " ['nectarine', 3774],\n",
              " ['elderberry', 3594],\n",
              " ['fig', 3633],\n",
              " ['banana', 1185],\n",
              " ['elderberry', 3118],\n",
              " ['fig', 4795],\n",
              " ['grape', 4104],\n",
              " ['banana', 2233],\n",
              " ['kiwi', 2388],\n",
              " ['cherry', 1173],\n",
              " ['lemon', 3839],\n",
              " ['quince', 4949],\n",
              " ['cherry', 2988],\n",
              " ['fig', 1183],\n",
              " ['cherry', 1863],\n",
              " ['fig', 1837],\n",
              " ['lemon', 1869],\n",
              " ['mango', 2804],\n",
              " ['grape', 4093],\n",
              " ['papaya', 2854],\n",
              " ['honeydew', 2579],\n",
              " ['elderberry', 2378],\n",
              " ['cherry', 3696],\n",
              " ['banana', 3072],\n",
              " ['orange', 1061],\n",
              " ['nectarine', 4845],\n",
              " ['grape', 3103],\n",
              " ['elderberry', 3743],\n",
              " ['kiwi', 1820],\n",
              " ['quince', 1304],\n",
              " ['date', 2944],\n",
              " ['apple', 2774],\n",
              " ['mango', 1107],\n",
              " ['apple', 3400],\n",
              " ['banana', 1745],\n",
              " ['elderberry', 1625],\n",
              " ['papaya', 2873],\n",
              " ['nectarine', 1890],\n",
              " ['fig', 4919],\n",
              " ['mango', 3882],\n",
              " ['lemon', 4493],\n",
              " ['lemon', 3425]]"
            ]
          },
          "metadata": {},
          "execution_count": 4
        }
      ]
    },
    {
      "cell_type": "markdown",
      "source": [
        "##**Aggregate Sales**"
      ],
      "metadata": {
        "id": "g8KIt6NqEZev"
      }
    },
    {
      "cell_type": "code",
      "source": [
        "aggregated_sales = []\n",
        "\n",
        "for fruit, sales in fruit_sales:\n",
        "  found = False\n",
        "  for i in range(len(aggregated_sales)):\n",
        "    if aggregated_sales[i][0] == fruit:\n",
        "      aggregated_sales[i][1] += sales\n",
        "      found = True\n",
        "      break\n",
        "  if not found:\n",
        "    aggregated_sales.append([fruit, sales])\n",
        "\n",
        "aggregated_sales"
      ],
      "metadata": {
        "colab": {
          "base_uri": "https://localhost:8080/"
        },
        "id": "k9hANhvDCmXz",
        "outputId": "336d4723-92d1-40ee-f6c2-488459dd1b48"
      },
      "execution_count": 5,
      "outputs": [
        {
          "output_type": "execute_result",
          "data": {
            "text/plain": [
              "[['quince', 10587],\n",
              " ['elderberry', 15818],\n",
              " ['mango', 11150],\n",
              " ['nectarine', 10509],\n",
              " ['fig', 16367],\n",
              " ['banana', 8235],\n",
              " ['grape', 11300],\n",
              " ['kiwi', 4208],\n",
              " ['cherry', 9720],\n",
              " ['lemon', 13626],\n",
              " ['papaya', 5727],\n",
              " ['honeydew', 2579],\n",
              " ['orange', 1061],\n",
              " ['date', 2944],\n",
              " ['apple', 6174]]"
            ]
          },
          "metadata": {},
          "execution_count": 5
        }
      ]
    },
    {
      "cell_type": "markdown",
      "source": [
        "##**Sort Results**"
      ],
      "metadata": {
        "id": "3UuhAzskEgo3"
      }
    },
    {
      "cell_type": "code",
      "source": [
        "aggregated_sales.sort(key=lambda x: x[1], reverse=True)"
      ],
      "metadata": {
        "id": "J8qn_M8HCt_Z"
      },
      "execution_count": 7,
      "outputs": []
    },
    {
      "cell_type": "markdown",
      "source": [
        "##**Output**"
      ],
      "metadata": {
        "id": "-gmiWFCwEmO1"
      }
    },
    {
      "cell_type": "code",
      "source": [
        "aggregated_sales"
      ],
      "metadata": {
        "colab": {
          "base_uri": "https://localhost:8080/"
        },
        "id": "sVJgysGpCv_9",
        "outputId": "53cbe9a1-b8cc-461f-e565-6d2ff9937688"
      },
      "execution_count": 9,
      "outputs": [
        {
          "output_type": "execute_result",
          "data": {
            "text/plain": [
              "[['fig', 16367],\n",
              " ['elderberry', 15818],\n",
              " ['lemon', 13626],\n",
              " ['grape', 11300],\n",
              " ['mango', 11150],\n",
              " ['quince', 10587],\n",
              " ['nectarine', 10509],\n",
              " ['cherry', 9720],\n",
              " ['banana', 8235],\n",
              " ['apple', 6174],\n",
              " ['papaya', 5727],\n",
              " ['kiwi', 4208],\n",
              " ['date', 2944],\n",
              " ['honeydew', 2579],\n",
              " ['orange', 1061]]"
            ]
          },
          "metadata": {},
          "execution_count": 9
        }
      ]
    }
  ]
}