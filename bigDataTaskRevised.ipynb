{
  "nbformat": 4,
  "nbformat_minor": 0,
  "metadata": {
    "colab": {
      "provenance": [],
      "authorship_tag": "ABX9TyMjX7ykOxG8orQu2kUGuxD+",
      "include_colab_link": true
    },
    "kernelspec": {
      "name": "python3",
      "display_name": "Python 3"
    },
    "language_info": {
      "name": "python"
    }
  },
  "cells": [
    {
      "cell_type": "markdown",
      "metadata": {
        "id": "view-in-github",
        "colab_type": "text"
      },
      "source": [
        "<a href=\"https://colab.research.google.com/github/MSaifProgrammer/uni_task/blob/main/bigDataTaskRevised.ipynb\" target=\"_parent\"><img src=\"https://colab.research.google.com/assets/colab-badge.svg\" alt=\"Open In Colab\"/></a>"
      ]
    },
    {
      "cell_type": "markdown",
      "source": [
        "## **List of fruits**"
      ],
      "metadata": {
        "id": "wsygE4CZ_5Tc"
      }
    },
    {
      "cell_type": "code",
      "execution_count": null,
      "metadata": {
        "id": "XOSXM8hSGTfq"
      },
      "outputs": [],
      "source": [
        "fruits_list = [\"apple\", \"banana\", \"cherry\", \"date\", \"elderberry\", \"fig\", \"grape\", \"honeydew\", \"kiwi\", \"lemon\", \"mango\", \"nectarine\", \"orange\", \"papaya\", \"quince\"]"
      ]
    },
    {
      "cell_type": "markdown",
      "source": [],
      "metadata": {
        "id": "jRPYKrevAIff"
      }
    },
    {
      "cell_type": "markdown",
      "source": [
        "# **New List and also using Random Module**\n",
        "\n"
      ],
      "metadata": {
        "id": "-APd1azWPO2Z"
      }
    },
    {
      "cell_type": "code",
      "source": [
        "import random\n",
        "\n",
        "fruits = []\n",
        "\n",
        "for x in range(45):\n",
        "  fruits.append(random.choice(fruits_list))\n",
        "\n",
        "print(fruits)"
      ],
      "metadata": {
        "colab": {
          "base_uri": "https://localhost:8080/"
        },
        "id": "MN7OTrXnboJc",
        "outputId": "6de2112b-4647-4f6a-84ad-82fc4e5c35ea"
      },
      "execution_count": null,
      "outputs": [
        {
          "output_type": "stream",
          "name": "stdout",
          "text": [
            "['nectarine', 'banana', 'grape', 'date', 'fig', 'papaya', 'lemon', 'date', 'date', 'banana', 'apple', 'apple', 'honeydew', 'lemon', 'papaya', 'fig', 'orange', 'grape', 'elderberry', 'nectarine', 'banana', 'papaya', 'banana', 'mango', 'date', 'orange', 'grape', 'papaya', 'grape', 'kiwi', 'quince', 'papaya', 'fig', 'orange', 'mango', 'nectarine', 'orange', 'quince', 'fig', 'elderberry', 'orange', 'honeydew', 'apple', 'apple', 'fig']\n"
          ]
        }
      ]
    },
    {
      "cell_type": "markdown",
      "source": [
        "# **Included Sales Data**"
      ],
      "metadata": {
        "id": "2MWqJpiNQGwv"
      }
    },
    {
      "cell_type": "code",
      "source": [
        "import random\n",
        "\n",
        "fruit_sales = []\n",
        "\n",
        "for fruit in fruits:\n",
        "  fruit_sales.append([fruit, random.randint(1000, 5000)])\n",
        "\n",
        "print(fruit_sales)"
      ],
      "metadata": {
        "colab": {
          "base_uri": "https://localhost:8080/"
        },
        "id": "RBaqkIgScsoZ",
        "outputId": "54db7c44-ff62-4004-a486-29e1bd86106a"
      },
      "execution_count": null,
      "outputs": [
        {
          "output_type": "stream",
          "name": "stdout",
          "text": [
            "[['nectarine', 1845], ['banana', 4725], ['grape', 1818], ['date', 2452], ['fig', 4540], ['papaya', 2525], ['lemon', 4219], ['date', 3878], ['date', 1965], ['banana', 3382], ['apple', 3167], ['apple', 3023], ['honeydew', 3516], ['lemon', 2777], ['papaya', 1017], ['fig', 3903], ['orange', 3004], ['grape', 3616], ['elderberry', 4564], ['nectarine', 2605], ['banana', 2602], ['papaya', 2269], ['banana', 4235], ['mango', 2985], ['date', 4063], ['orange', 3014], ['grape', 3682], ['papaya', 4795], ['grape', 1312], ['kiwi', 2713], ['quince', 2307], ['papaya', 2561], ['fig', 4445], ['orange', 1119], ['mango', 2123], ['nectarine', 2753], ['orange', 3792], ['quince', 1916], ['fig', 2888], ['elderberry', 2567], ['orange', 2349], ['honeydew', 1092], ['apple', 3723], ['apple', 3180], ['fig', 1286]]\n"
          ]
        }
      ]
    },
    {
      "cell_type": "markdown",
      "source": [
        "# **Aggregating Sales**"
      ],
      "metadata": {
        "id": "ttflsnYqQQ_U"
      }
    },
    {
      "cell_type": "code",
      "source": [
        "aggregated_sales = []\n",
        "\n",
        "for fruit, sales in fruit_sales:\n",
        "  found = False\n",
        "  for i in range(len(aggregated_sales)):\n",
        "    if aggregated_sales[i][0] == fruit:\n",
        "      aggregated_sales[i][1] += sales\n",
        "      found = True\n",
        "      break\n",
        "  if not found:\n",
        "    aggregated_sales.append([fruit, sales])\n",
        "\n",
        "aggregated_sales\n",
        "\n"
      ],
      "metadata": {
        "colab": {
          "base_uri": "https://localhost:8080/"
        },
        "id": "hmMlpn4XdNJ_",
        "outputId": "cc8e8273-83b4-4828-d598-cbe5f24b7753"
      },
      "execution_count": null,
      "outputs": [
        {
          "output_type": "execute_result",
          "data": {
            "text/plain": [
              "[['nectarine', 7203],\n",
              " ['banana', 14944],\n",
              " ['grape', 10428],\n",
              " ['date', 12358],\n",
              " ['fig', 17062],\n",
              " ['papaya', 13167],\n",
              " ['lemon', 6996],\n",
              " ['apple', 13093],\n",
              " ['honeydew', 4608],\n",
              " ['orange', 13278],\n",
              " ['elderberry', 7131],\n",
              " ['mango', 5108],\n",
              " ['kiwi', 2713],\n",
              " ['quince', 4223]]"
            ]
          },
          "metadata": {},
          "execution_count": 9
        }
      ]
    },
    {
      "cell_type": "markdown",
      "source": [
        "# **Sorting Sales Value in Descending**"
      ],
      "metadata": {
        "id": "UFJbA3ieQXvS"
      }
    },
    {
      "cell_type": "code",
      "source": [
        "aggregated_sales.sort(key=lambda x: x[1], reverse=True)\n",
        "\n",
        "aggregated_sales"
      ],
      "metadata": {
        "colab": {
          "base_uri": "https://localhost:8080/"
        },
        "id": "4uicOQX7_Imq",
        "outputId": "49a58404-f22f-42cd-af04-483c10bf72a6"
      },
      "execution_count": null,
      "outputs": [
        {
          "output_type": "execute_result",
          "data": {
            "text/plain": [
              "[['fig', 17062],\n",
              " ['banana', 14944],\n",
              " ['orange', 13278],\n",
              " ['papaya', 13167],\n",
              " ['apple', 13093],\n",
              " ['date', 12358],\n",
              " ['grape', 10428],\n",
              " ['nectarine', 7203],\n",
              " ['elderberry', 7131],\n",
              " ['lemon', 6996],\n",
              " ['mango', 5108],\n",
              " ['honeydew', 4608],\n",
              " ['quince', 4223],\n",
              " ['kiwi', 2713]]"
            ]
          },
          "metadata": {},
          "execution_count": 10
        }
      ]
    }
  ]
}